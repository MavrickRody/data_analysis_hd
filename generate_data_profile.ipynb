{
 "cells": [
  {
   "cell_type": "markdown",
   "metadata": {},
   "source": [
    "Creating Data Profile for the given Auto Dataset\n"
   ]
  },
  {
   "cell_type": "code",
   "execution_count": 3,
   "metadata": {},
   "outputs": [],
   "source": [
    "#import the packages\n",
    "import pandas as pd\n",
    "import pandas_profiling\n",
    "import numpy as np\n",
    "import matplotlib.pyplot as plt\n"
   ]
  },
  {
   "cell_type": "code",
   "execution_count": 5,
   "metadata": {},
   "outputs": [
    {
     "name": "stderr",
     "output_type": "stream",
     "text": [
      "Summarize dataset: 100%|██████████| 62/62 [00:07<00:00,  7.80it/s, Completed]                         \n",
      "Generate report structure: 100%|██████████| 1/1 [00:03<00:00,  3.01s/it]\n",
      "Render HTML: 100%|██████████| 1/1 [00:00<00:00,  1.07it/s]\n",
      "Export report to file: 100%|██████████| 1/1 [00:00<00:00, 124.15it/s]\n",
      "Render JSON: 100%|██████████| 1/1 [00:00<00:00, 36.31it/s]\n",
      "Export report to file: 100%|██████████| 1/1 [00:00<00:00, 303.14it/s]\n"
     ]
    }
   ],
   "source": [
    "# read the file\n",
    "df = pd.read_csv('C:\\\\HD\\\\Use_case_data_set.csv', index_col=0, parse_dates=True)\n",
    "   \n",
    "# run the profile report\n",
    "profile = df.profile_report(title='Pandas Profiling Report')\n",
    "   \n",
    "# save the report as html file\n",
    "profile.to_file(output_file=\"pandas_profiling1.html\")\n",
    "   \n",
    "# save the report as json file\n",
    "profile.to_file(output_file=\"pandas_profiling2.json\")"
   ]
  },
  {
   "cell_type": "markdown",
   "metadata": {},
   "source": [
    "A Profile has been generated in the working directory"
   ]
  }
 ],
 "metadata": {
  "interpreter": {
   "hash": "916b4b65f67bb9c2e4625738aa470884dd8a444b2f2bbcac88867f451039d9ca"
  },
  "kernelspec": {
   "display_name": "Python 3.9.1 64-bit",
   "language": "python",
   "name": "python3"
  },
  "language_info": {
   "codemirror_mode": {
    "name": "ipython",
    "version": 3
   },
   "file_extension": ".py",
   "mimetype": "text/x-python",
   "name": "python",
   "nbconvert_exporter": "python",
   "pygments_lexer": "ipython3",
   "version": "3.7.8"
  },
  "orig_nbformat": 4
 },
 "nbformat": 4,
 "nbformat_minor": 2
}
