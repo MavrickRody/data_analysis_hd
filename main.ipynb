{
 "cells": [
  {
   "cell_type": "markdown",
   "metadata": {},
   "source": [
    "## Import Libraries\n"
   ]
  },
  {
   "cell_type": "code",
   "execution_count": 23,
   "metadata": {},
   "outputs": [],
   "source": [
    "#import the packages\n",
    "import pandas as pd\n",
    "import pandas_profiling\n",
    "import numpy as np\n",
    "import matplotlib\n",
    "import matplotlib.pyplot as plt\n",
    "import seaborn as sns\n",
    "import tkinter\n",
    "matplotlib.use('TkAgg')\n"
   ]
  },
  {
   "cell_type": "markdown",
   "metadata": {},
   "source": [
    "## Read the Data"
   ]
  },
  {
   "cell_type": "code",
   "execution_count": 16,
   "metadata": {},
   "outputs": [
    {
     "data": {
      "text/plain": [
       "price            object\n",
       "mpg               int64\n",
       "rep78            object\n",
       "headroom          int64\n",
       "trunk             int64\n",
       "weight           object\n",
       "length            int64\n",
       "turn              int64\n",
       "displacement      int64\n",
       "gear_ratio      float64\n",
       "foreign          object\n",
       "dtype: object"
      ]
     },
     "execution_count": 16,
     "metadata": {},
     "output_type": "execute_result"
    }
   ],
   "source": [
    "# read the file\n",
    "df = pd.read_csv('C:\\\\HD\\\\Use_case_data_set.csv', index_col=0, parse_dates=True)\n",
    "df.dtypes"
   ]
  },
  {
   "cell_type": "markdown",
   "metadata": {},
   "source": [
    "## Checking the Data Distribution\n"
   ]
  },
  {
   "cell_type": "code",
   "execution_count": 17,
   "metadata": {},
   "outputs": [
    {
     "data": {
      "text/html": [
       "<div>\n",
       "<style scoped>\n",
       "    .dataframe tbody tr th:only-of-type {\n",
       "        vertical-align: middle;\n",
       "    }\n",
       "\n",
       "    .dataframe tbody tr th {\n",
       "        vertical-align: top;\n",
       "    }\n",
       "\n",
       "    .dataframe thead th {\n",
       "        text-align: right;\n",
       "    }\n",
       "</style>\n",
       "<table border=\"1\" class=\"dataframe\">\n",
       "  <thead>\n",
       "    <tr style=\"text-align: right;\">\n",
       "      <th></th>\n",
       "      <th>price</th>\n",
       "      <th>mpg</th>\n",
       "      <th>rep78</th>\n",
       "      <th>headroom</th>\n",
       "      <th>trunk</th>\n",
       "      <th>weight</th>\n",
       "      <th>length</th>\n",
       "      <th>turn</th>\n",
       "      <th>displacement</th>\n",
       "      <th>gear_ratio</th>\n",
       "      <th>foreign</th>\n",
       "    </tr>\n",
       "  </thead>\n",
       "  <tbody>\n",
       "    <tr>\n",
       "      <th>count</th>\n",
       "      <td>74</td>\n",
       "      <td>74.000000</td>\n",
       "      <td>69</td>\n",
       "      <td>74.000000</td>\n",
       "      <td>74.000000</td>\n",
       "      <td>74</td>\n",
       "      <td>74.000000</td>\n",
       "      <td>74.000000</td>\n",
       "      <td>74.000000</td>\n",
       "      <td>74.000000</td>\n",
       "      <td>74</td>\n",
       "    </tr>\n",
       "    <tr>\n",
       "      <th>unique</th>\n",
       "      <td>74</td>\n",
       "      <td>NaN</td>\n",
       "      <td>5</td>\n",
       "      <td>NaN</td>\n",
       "      <td>NaN</td>\n",
       "      <td>64</td>\n",
       "      <td>NaN</td>\n",
       "      <td>NaN</td>\n",
       "      <td>NaN</td>\n",
       "      <td>NaN</td>\n",
       "      <td>2</td>\n",
       "    </tr>\n",
       "    <tr>\n",
       "      <th>top</th>\n",
       "      <td>3,895</td>\n",
       "      <td>NaN</td>\n",
       "      <td>Average</td>\n",
       "      <td>NaN</td>\n",
       "      <td>NaN</td>\n",
       "      <td>3,690</td>\n",
       "      <td>NaN</td>\n",
       "      <td>NaN</td>\n",
       "      <td>NaN</td>\n",
       "      <td>NaN</td>\n",
       "      <td>Domestic</td>\n",
       "    </tr>\n",
       "    <tr>\n",
       "      <th>freq</th>\n",
       "      <td>1</td>\n",
       "      <td>NaN</td>\n",
       "      <td>30</td>\n",
       "      <td>NaN</td>\n",
       "      <td>NaN</td>\n",
       "      <td>2</td>\n",
       "      <td>NaN</td>\n",
       "      <td>NaN</td>\n",
       "      <td>NaN</td>\n",
       "      <td>NaN</td>\n",
       "      <td>52</td>\n",
       "    </tr>\n",
       "    <tr>\n",
       "      <th>mean</th>\n",
       "      <td>NaN</td>\n",
       "      <td>21.297297</td>\n",
       "      <td>NaN</td>\n",
       "      <td>3.243243</td>\n",
       "      <td>13.756757</td>\n",
       "      <td>NaN</td>\n",
       "      <td>187.932432</td>\n",
       "      <td>39.648649</td>\n",
       "      <td>197.297297</td>\n",
       "      <td>3.014865</td>\n",
       "      <td>NaN</td>\n",
       "    </tr>\n",
       "    <tr>\n",
       "      <th>std</th>\n",
       "      <td>NaN</td>\n",
       "      <td>5.785503</td>\n",
       "      <td>NaN</td>\n",
       "      <td>0.888447</td>\n",
       "      <td>4.277404</td>\n",
       "      <td>NaN</td>\n",
       "      <td>22.266340</td>\n",
       "      <td>4.399354</td>\n",
       "      <td>91.837219</td>\n",
       "      <td>0.456287</td>\n",
       "      <td>NaN</td>\n",
       "    </tr>\n",
       "    <tr>\n",
       "      <th>min</th>\n",
       "      <td>NaN</td>\n",
       "      <td>12.000000</td>\n",
       "      <td>NaN</td>\n",
       "      <td>2.000000</td>\n",
       "      <td>5.000000</td>\n",
       "      <td>NaN</td>\n",
       "      <td>142.000000</td>\n",
       "      <td>31.000000</td>\n",
       "      <td>79.000000</td>\n",
       "      <td>2.190000</td>\n",
       "      <td>NaN</td>\n",
       "    </tr>\n",
       "    <tr>\n",
       "      <th>25%</th>\n",
       "      <td>NaN</td>\n",
       "      <td>18.000000</td>\n",
       "      <td>NaN</td>\n",
       "      <td>3.000000</td>\n",
       "      <td>10.250000</td>\n",
       "      <td>NaN</td>\n",
       "      <td>170.000000</td>\n",
       "      <td>36.000000</td>\n",
       "      <td>119.000000</td>\n",
       "      <td>2.730000</td>\n",
       "      <td>NaN</td>\n",
       "    </tr>\n",
       "    <tr>\n",
       "      <th>50%</th>\n",
       "      <td>NaN</td>\n",
       "      <td>20.000000</td>\n",
       "      <td>NaN</td>\n",
       "      <td>3.000000</td>\n",
       "      <td>14.000000</td>\n",
       "      <td>NaN</td>\n",
       "      <td>192.500000</td>\n",
       "      <td>40.000000</td>\n",
       "      <td>196.000000</td>\n",
       "      <td>2.955000</td>\n",
       "      <td>NaN</td>\n",
       "    </tr>\n",
       "    <tr>\n",
       "      <th>75%</th>\n",
       "      <td>NaN</td>\n",
       "      <td>24.750000</td>\n",
       "      <td>NaN</td>\n",
       "      <td>4.000000</td>\n",
       "      <td>16.750000</td>\n",
       "      <td>NaN</td>\n",
       "      <td>203.750000</td>\n",
       "      <td>43.000000</td>\n",
       "      <td>245.250000</td>\n",
       "      <td>3.352500</td>\n",
       "      <td>NaN</td>\n",
       "    </tr>\n",
       "    <tr>\n",
       "      <th>max</th>\n",
       "      <td>NaN</td>\n",
       "      <td>41.000000</td>\n",
       "      <td>NaN</td>\n",
       "      <td>5.000000</td>\n",
       "      <td>23.000000</td>\n",
       "      <td>NaN</td>\n",
       "      <td>233.000000</td>\n",
       "      <td>51.000000</td>\n",
       "      <td>425.000000</td>\n",
       "      <td>3.890000</td>\n",
       "      <td>NaN</td>\n",
       "    </tr>\n",
       "  </tbody>\n",
       "</table>\n",
       "</div>"
      ],
      "text/plain": [
       "        price        mpg    rep78   headroom      trunk weight      length  \\\n",
       "count      74  74.000000       69  74.000000  74.000000     74   74.000000   \n",
       "unique     74        NaN        5        NaN        NaN     64         NaN   \n",
       "top     3,895        NaN  Average        NaN        NaN  3,690         NaN   \n",
       "freq        1        NaN       30        NaN        NaN      2         NaN   \n",
       "mean      NaN  21.297297      NaN   3.243243  13.756757    NaN  187.932432   \n",
       "std       NaN   5.785503      NaN   0.888447   4.277404    NaN   22.266340   \n",
       "min       NaN  12.000000      NaN   2.000000   5.000000    NaN  142.000000   \n",
       "25%       NaN  18.000000      NaN   3.000000  10.250000    NaN  170.000000   \n",
       "50%       NaN  20.000000      NaN   3.000000  14.000000    NaN  192.500000   \n",
       "75%       NaN  24.750000      NaN   4.000000  16.750000    NaN  203.750000   \n",
       "max       NaN  41.000000      NaN   5.000000  23.000000    NaN  233.000000   \n",
       "\n",
       "             turn  displacement  gear_ratio   foreign  \n",
       "count   74.000000     74.000000   74.000000        74  \n",
       "unique        NaN           NaN         NaN         2  \n",
       "top           NaN           NaN         NaN  Domestic  \n",
       "freq          NaN           NaN         NaN        52  \n",
       "mean    39.648649    197.297297    3.014865       NaN  \n",
       "std      4.399354     91.837219    0.456287       NaN  \n",
       "min     31.000000     79.000000    2.190000       NaN  \n",
       "25%     36.000000    119.000000    2.730000       NaN  \n",
       "50%     40.000000    196.000000    2.955000       NaN  \n",
       "75%     43.000000    245.250000    3.352500       NaN  \n",
       "max     51.000000    425.000000    3.890000       NaN  "
      ]
     },
     "execution_count": 17,
     "metadata": {},
     "output_type": "execute_result"
    }
   ],
   "source": [
    "df.describe(include=\"all\")"
   ]
  },
  {
   "cell_type": "markdown",
   "metadata": {},
   "source": [
    "## Cleanning the Data \n",
    "\n",
    "Here data type to the price feature is “object” the expected data type should really be an integer or float type.\n",
    "To covert datatype: dataframe.astype()"
   ]
  },
  {
   "cell_type": "markdown",
   "metadata": {},
   "source": [
    "### Check Null Values"
   ]
  },
  {
   "cell_type": "code",
   "execution_count": 18,
   "metadata": {},
   "outputs": [
    {
     "data": {
      "text/plain": [
       "price           0\n",
       "mpg             0\n",
       "rep78           5\n",
       "headroom        0\n",
       "trunk           0\n",
       "weight          0\n",
       "length          0\n",
       "turn            0\n",
       "displacement    0\n",
       "gear_ratio      0\n",
       "foreign         0\n",
       "dtype: int64"
      ]
     },
     "execution_count": 18,
     "metadata": {},
     "output_type": "execute_result"
    }
   ],
   "source": [
    "df.isnull().sum()"
   ]
  },
  {
   "cell_type": "markdown",
   "metadata": {},
   "source": [
    "## Check Symbols"
   ]
  },
  {
   "cell_type": "code",
   "execution_count": 19,
   "metadata": {},
   "outputs": [
    {
     "name": "stdout",
     "output_type": "stream",
     "text": [
      "price : ['13,594' '11,497' '14,500' '13,466' '6,303' '11,385' '12,990' '5,379'\n",
      " '7,827' '6,165' '10,371' '5,886' '10,372' '5,705' '9,690' '4,749' '6,342'\n",
      " '11,995' '5,798' '4,060' '5,899' '4,890' '5,788' '4,934' '4,010' '4,516'\n",
      " '5,719' '5,222' '4,181' '4,723' '4,424' '4,082' '5,172' '3,955' '4,733'\n",
      " '4,816' '3,291' '5,189' '8,129' '4,296' '8,814' '15,906' '4,187' '3,829'\n",
      " '5,104' '4,504' '3,799' '4,099' '6,229' '7,140' '6,295' '4,172' '4,195'\n",
      " '5,079' '3,667' '5,799' '4,697' '4,482' '9,735' '6,850' '4,453' '6,486'\n",
      " '3,895' '4,647' '4,389' '4,499' '3,299' '3,995' '3,984' '3,748' '4,425'\n",
      " '4,589' '3,798' '5,397']\n",
      "mpg : [12 14 15 16 17 18 19 20 21 22 23 24 25 26 28 29 30 31 34 35 41]\n",
      "rep78 : ['Average' 'Fair' 'Good' nan 'Excellent' 'Poor']\n",
      "headroom : [3 4 5 2]\n",
      "trunk : [18 22 16 15 20 14 23 17 11 21  7 13  8 10  9 12  6  5]\n",
      "weight : ['4,720' '4,840' '3,900' '3,830' '4,130' '4,330' '3,420' '4,060' '4,080'\n",
      " '3,720' '4,030' '3,600' '3,880' '3,690' '2,830' '3,350' '3,740' '3,170'\n",
      " '3,700' '3,330' '2,410' '3,670' '3,470' '3,370' '2,670' '3,210' '3,200'\n",
      " '3,400' '3,310' '3,430' '3,300' '3,250' '3,280' '2,750' '2,130' '4,290'\n",
      " '2,650' '2,580' '3,220' '3,180' '2,640' '2,930' '2,370' '2,160' '2,070'\n",
      " '2,690' '2,730' '2,280' '2,240' '1,930' '2,200' '1,990' '2,230' '2,520'\n",
      " '1,830' '3,260' '1,800' '1,760' '2,110' '1,980' '2,120' '2,020' '2,050'\n",
      " '2,040']\n",
      "length : [230 233 204 201 217 221 192 222 212 206 207 189 173 220 193 214 174 218\n",
      " 198 175 200 199 203 197 196 195 184 161 179 169 168 186 170 172 180 155\n",
      " 165 177 156 182 142 147 149 163 154 157 164]\n",
      "turn : [48 51 43 41 45 44 38 46 37 40 42 36 39 31 35 34 33 32]\n",
      "displacement : [400 350 302 425 163 318 231 250 131 258 225 134 196 140 146 105 200 121\n",
      " 119  97 151 107  89 304  79 156  98  91  86  85  90]\n",
      "gear_ratio : [2.47 2.19 2.75 2.28 3.58 2.41 2.26 2.93 2.56 3.2  2.53 2.94 2.98 2.73\n",
      " 3.23 3.06 3.08 2.43 3.05 3.55 3.37 2.24 3.89 3.74 3.7  3.54 3.78 3.64\n",
      " 2.87 3.72 3.15 3.3  3.73 3.21 2.97 3.81]\n",
      "foreign : ['Domestic' 'Foreign']\n"
     ]
    }
   ],
   "source": [
    "for col in df.columns:\n",
    "    print('{} : {}'.format(col,df[col].unique()))"
   ]
  },
  {
   "cell_type": "markdown",
   "metadata": {},
   "source": [
    "### Making Data Readable\n",
    "Fill the NaN with Zeros"
   ]
  },
  {
   "cell_type": "code",
   "execution_count": 20,
   "metadata": {},
   "outputs": [
    {
     "data": {
      "text/html": [
       "<div>\n",
       "<style scoped>\n",
       "    .dataframe tbody tr th:only-of-type {\n",
       "        vertical-align: middle;\n",
       "    }\n",
       "\n",
       "    .dataframe tbody tr th {\n",
       "        vertical-align: top;\n",
       "    }\n",
       "\n",
       "    .dataframe thead th {\n",
       "        text-align: right;\n",
       "    }\n",
       "</style>\n",
       "<table border=\"1\" class=\"dataframe\">\n",
       "  <thead>\n",
       "    <tr style=\"text-align: right;\">\n",
       "      <th></th>\n",
       "      <th>price</th>\n",
       "      <th>mpg</th>\n",
       "      <th>rep78</th>\n",
       "      <th>headroom</th>\n",
       "      <th>trunk</th>\n",
       "      <th>weight</th>\n",
       "      <th>length</th>\n",
       "      <th>turn</th>\n",
       "      <th>displacement</th>\n",
       "      <th>gear_ratio</th>\n",
       "      <th>foreign</th>\n",
       "    </tr>\n",
       "    <tr>\n",
       "      <th>make</th>\n",
       "      <th></th>\n",
       "      <th></th>\n",
       "      <th></th>\n",
       "      <th></th>\n",
       "      <th></th>\n",
       "      <th></th>\n",
       "      <th></th>\n",
       "      <th></th>\n",
       "      <th></th>\n",
       "      <th></th>\n",
       "      <th></th>\n",
       "    </tr>\n",
       "  </thead>\n",
       "  <tbody>\n",
       "    <tr>\n",
       "      <th>Linc. Mark V</th>\n",
       "      <td>13,594</td>\n",
       "      <td>12.0</td>\n",
       "      <td>2</td>\n",
       "      <td>3</td>\n",
       "      <td>18</td>\n",
       "      <td>4,720</td>\n",
       "      <td>230</td>\n",
       "      <td>48</td>\n",
       "      <td>400</td>\n",
       "      <td>2.47</td>\n",
       "      <td>0</td>\n",
       "    </tr>\n",
       "    <tr>\n",
       "      <th>Linc. Continental</th>\n",
       "      <td>11,497</td>\n",
       "      <td>12.0</td>\n",
       "      <td>2</td>\n",
       "      <td>4</td>\n",
       "      <td>22</td>\n",
       "      <td>4,840</td>\n",
       "      <td>233</td>\n",
       "      <td>51</td>\n",
       "      <td>400</td>\n",
       "      <td>2.47</td>\n",
       "      <td>0</td>\n",
       "    </tr>\n",
       "    <tr>\n",
       "      <th>Cad. Eldorado</th>\n",
       "      <td>14,500</td>\n",
       "      <td>14.0</td>\n",
       "      <td>1</td>\n",
       "      <td>4</td>\n",
       "      <td>16</td>\n",
       "      <td>3,900</td>\n",
       "      <td>204</td>\n",
       "      <td>43</td>\n",
       "      <td>350</td>\n",
       "      <td>2.19</td>\n",
       "      <td>0</td>\n",
       "    </tr>\n",
       "    <tr>\n",
       "      <th>Linc. Versailles</th>\n",
       "      <td>13,466</td>\n",
       "      <td>14.0</td>\n",
       "      <td>2</td>\n",
       "      <td>4</td>\n",
       "      <td>15</td>\n",
       "      <td>3,830</td>\n",
       "      <td>201</td>\n",
       "      <td>41</td>\n",
       "      <td>302</td>\n",
       "      <td>2.47</td>\n",
       "      <td>0</td>\n",
       "    </tr>\n",
       "    <tr>\n",
       "      <th>Merc. XR-7</th>\n",
       "      <td>6,303</td>\n",
       "      <td>14.0</td>\n",
       "      <td>3</td>\n",
       "      <td>3</td>\n",
       "      <td>16</td>\n",
       "      <td>4,130</td>\n",
       "      <td>217</td>\n",
       "      <td>45</td>\n",
       "      <td>302</td>\n",
       "      <td>2.75</td>\n",
       "      <td>0</td>\n",
       "    </tr>\n",
       "    <tr>\n",
       "      <th>...</th>\n",
       "      <td>...</td>\n",
       "      <td>...</td>\n",
       "      <td>...</td>\n",
       "      <td>...</td>\n",
       "      <td>...</td>\n",
       "      <td>...</td>\n",
       "      <td>...</td>\n",
       "      <td>...</td>\n",
       "      <td>...</td>\n",
       "      <td>...</td>\n",
       "      <td>...</td>\n",
       "    </tr>\n",
       "    <tr>\n",
       "      <th>Toyota Corolla</th>\n",
       "      <td>3,748</td>\n",
       "      <td>31.0</td>\n",
       "      <td>4</td>\n",
       "      <td>3</td>\n",
       "      <td>9</td>\n",
       "      <td>2,200</td>\n",
       "      <td>165</td>\n",
       "      <td>35</td>\n",
       "      <td>97</td>\n",
       "      <td>3.21</td>\n",
       "      <td>1</td>\n",
       "    </tr>\n",
       "    <tr>\n",
       "      <th>Plym. Champ</th>\n",
       "      <td>4,425</td>\n",
       "      <td>34.0</td>\n",
       "      <td>4</td>\n",
       "      <td>3</td>\n",
       "      <td>11</td>\n",
       "      <td>1,800</td>\n",
       "      <td>157</td>\n",
       "      <td>37</td>\n",
       "      <td>86</td>\n",
       "      <td>2.97</td>\n",
       "      <td>0</td>\n",
       "    </tr>\n",
       "    <tr>\n",
       "      <th>Datsun 210</th>\n",
       "      <td>4,589</td>\n",
       "      <td>35.0</td>\n",
       "      <td>4</td>\n",
       "      <td>2</td>\n",
       "      <td>8</td>\n",
       "      <td>2,020</td>\n",
       "      <td>165</td>\n",
       "      <td>32</td>\n",
       "      <td>85</td>\n",
       "      <td>3.70</td>\n",
       "      <td>1</td>\n",
       "    </tr>\n",
       "    <tr>\n",
       "      <th>Subaru</th>\n",
       "      <td>3,798</td>\n",
       "      <td>35.0</td>\n",
       "      <td>4</td>\n",
       "      <td>3</td>\n",
       "      <td>11</td>\n",
       "      <td>2,050</td>\n",
       "      <td>164</td>\n",
       "      <td>36</td>\n",
       "      <td>97</td>\n",
       "      <td>3.81</td>\n",
       "      <td>1</td>\n",
       "    </tr>\n",
       "    <tr>\n",
       "      <th>VW Diesel</th>\n",
       "      <td>5,397</td>\n",
       "      <td>41.0</td>\n",
       "      <td>4</td>\n",
       "      <td>3</td>\n",
       "      <td>15</td>\n",
       "      <td>2,040</td>\n",
       "      <td>155</td>\n",
       "      <td>35</td>\n",
       "      <td>90</td>\n",
       "      <td>3.78</td>\n",
       "      <td>1</td>\n",
       "    </tr>\n",
       "  </tbody>\n",
       "</table>\n",
       "<p>74 rows × 11 columns</p>\n",
       "</div>"
      ],
      "text/plain": [
       "                    price   mpg rep78  headroom  trunk weight  length  turn  \\\n",
       "make                                                                          \n",
       "Linc. Mark V       13,594  12.0     2         3     18  4,720     230    48   \n",
       "Linc. Continental  11,497  12.0     2         4     22  4,840     233    51   \n",
       "Cad. Eldorado      14,500  14.0     1         4     16  3,900     204    43   \n",
       "Linc. Versailles   13,466  14.0     2         4     15  3,830     201    41   \n",
       "Merc. XR-7          6,303  14.0     3         3     16  4,130     217    45   \n",
       "...                   ...   ...   ...       ...    ...    ...     ...   ...   \n",
       "Toyota Corolla      3,748  31.0     4         3      9  2,200     165    35   \n",
       "Plym. Champ         4,425  34.0     4         3     11  1,800     157    37   \n",
       "Datsun 210          4,589  35.0     4         2      8  2,020     165    32   \n",
       "Subaru              3,798  35.0     4         3     11  2,050     164    36   \n",
       "VW Diesel           5,397  41.0     4         3     15  2,040     155    35   \n",
       "\n",
       "                   displacement  gear_ratio foreign  \n",
       "make                                                 \n",
       "Linc. Mark V                400        2.47       0  \n",
       "Linc. Continental           400        2.47       0  \n",
       "Cad. Eldorado               350        2.19       0  \n",
       "Linc. Versailles            302        2.47       0  \n",
       "Merc. XR-7                  302        2.75       0  \n",
       "...                         ...         ...     ...  \n",
       "Toyota Corolla               97        3.21       1  \n",
       "Plym. Champ                  86        2.97       0  \n",
       "Datsun 210                   85        3.70       1  \n",
       "Subaru                       97        3.81       1  \n",
       "VW Diesel                    90        3.78       1  \n",
       "\n",
       "[74 rows x 11 columns]"
      ]
     },
     "execution_count": 20,
     "metadata": {},
     "output_type": "execute_result"
    }
   ],
   "source": [
    "df[['mpg']]=df['mpg'].replace(',', '').astype(float)\n",
    "df[['foreign']]=df['foreign'].replace('Foreign', '1')\n",
    "df[['foreign']]=df['foreign'].replace('Domestic', '0')\n",
    "df[['rep78']]=df['rep78'].replace('Poor', '0')\n",
    "df[['rep78']]=df['rep78'].replace('Fair', '1')\n",
    "df[['rep78']]=df['rep78'].replace('Average', '2')\n",
    "df[['rep78']]=df['rep78'].replace('Good', '3')\n",
    "df[['rep78']]=df['rep78'].replace('Excellent', '4')\n",
    "df.fillna(0)\n",
    "\n",
    "df"
   ]
  },
  {
   "cell_type": "markdown",
   "metadata": {},
   "source": [
    "### Visualizing the missing values"
   ]
  },
  {
   "cell_type": "code",
   "execution_count": 24,
   "metadata": {},
   "outputs": [],
   "source": [
    "\n",
    "sns.heatmap(df.isnull(),cbar=False,cmap='viridis')\n",
    "plt.show()"
   ]
  },
  {
   "cell_type": "markdown",
   "metadata": {},
   "source": [
    "### Replace Comma's and Change the data types"
   ]
  },
  {
   "cell_type": "code",
   "execution_count": 6,
   "metadata": {},
   "outputs": [],
   "source": [
    "df.replace(',','', regex=True, inplace=True)\n",
    "c = df.select_dtypes(object).columns\n",
    "df[c] = df[c].apply(pd.to_numeric,errors='coerce')\n"
   ]
  },
  {
   "cell_type": "markdown",
   "metadata": {},
   "source": [
    "#### Review Data"
   ]
  },
  {
   "cell_type": "code",
   "execution_count": 70,
   "metadata": {},
   "outputs": [
    {
     "data": {
      "text/plain": [
       "<bound method DataFrame.info of                    price   mpg  rep78  headroom  trunk  weight  length  turn  \\\n",
       "make                                                                           \n",
       "Linc. Mark V       13594  12.0    2.0         3     18    4720     230    48   \n",
       "Linc. Continental  11497  12.0    2.0         4     22    4840     233    51   \n",
       "Cad. Eldorado      14500  14.0    1.0         4     16    3900     204    43   \n",
       "Linc. Versailles   13466  14.0    2.0         4     15    3830     201    41   \n",
       "Merc. XR-7          6303  14.0    3.0         3     16    4130     217    45   \n",
       "...                  ...   ...    ...       ...    ...     ...     ...   ...   \n",
       "Toyota Corolla      3748  31.0    4.0         3      9    2200     165    35   \n",
       "Plym. Champ         4425  34.0    4.0         3     11    1800     157    37   \n",
       "Datsun 210          4589  35.0    4.0         2      8    2020     165    32   \n",
       "Subaru              3798  35.0    4.0         3     11    2050     164    36   \n",
       "VW Diesel           5397  41.0    4.0         3     15    2040     155    35   \n",
       "\n",
       "                   displacement  gear_ratio  foreign  \n",
       "make                                                  \n",
       "Linc. Mark V                400        2.47        0  \n",
       "Linc. Continental           400        2.47        0  \n",
       "Cad. Eldorado               350        2.19        0  \n",
       "Linc. Versailles            302        2.47        0  \n",
       "Merc. XR-7                  302        2.75        0  \n",
       "...                         ...         ...      ...  \n",
       "Toyota Corolla               97        3.21        1  \n",
       "Plym. Champ                  86        2.97        0  \n",
       "Datsun 210                   85        3.70        1  \n",
       "Subaru                       97        3.81        1  \n",
       "VW Diesel                    90        3.78        1  \n",
       "\n",
       "[74 rows x 11 columns]>"
      ]
     },
     "execution_count": 70,
     "metadata": {},
     "output_type": "execute_result"
    }
   ],
   "source": [
    "df.info"
   ]
  },
  {
   "cell_type": "markdown",
   "metadata": {},
   "source": [
    "### Generate Data Profile"
   ]
  },
  {
   "cell_type": "code",
   "execution_count": 8,
   "metadata": {},
   "outputs": [
    {
     "name": "stderr",
     "output_type": "stream",
     "text": [
      "Summarize dataset: 100%|██████████| 62/62 [00:11<00:00,  5.50it/s, Completed]                         \n",
      "Generate report structure: 100%|██████████| 1/1 [00:04<00:00,  4.45s/it]\n",
      "Render HTML: 100%|██████████| 1/1 [00:01<00:00,  1.66s/it]\n",
      "Export report to file: 100%|██████████| 1/1 [00:00<00:00, 60.31it/s]\n",
      "Render JSON: 100%|██████████| 1/1 [00:00<00:00, 28.49it/s]\n",
      "Export report to file: 100%|██████████| 1/1 [00:00<00:00, 143.14it/s]\n"
     ]
    }
   ],
   "source": [
    "# read the file\n",
    "#df = pd.read_csv('C:\\\\HD\\\\Use_case_data_set.csv', index_col=0, parse_dates=True)\n",
    "   \n",
    "# run the profile report\n",
    "profile = df.profile_report(title='Pandas Profiling Report')\n",
    "   \n",
    "# save the report as html file\n",
    "profile.to_file(output_file=\"pandas_profiling1.html\")\n",
    "   \n",
    "# save the report as json file\n",
    "profile.to_file(output_file=\"pandas_profiling2.json\")"
   ]
  },
  {
   "cell_type": "markdown",
   "metadata": {},
   "source": [
    "### Identify the Outliers in the dataset with numeric columns"
   ]
  },
  {
   "cell_type": "code",
   "execution_count": 9,
   "metadata": {},
   "outputs": [
    {
     "name": "stderr",
     "output_type": "stream",
     "text": [
      "<ipython-input-9-f98dc58804ec>:2: UserWarning: Matplotlib is currently using agg, which is a non-GUI backend, so cannot show the figure.\n",
      "  plt.show()\n"
     ]
    }
   ],
   "source": [
    "sns.boxplot(x=\"mpg\",y=\"gear_ratio\",data=df)\n",
    "plt.show()"
   ]
  },
  {
   "cell_type": "markdown",
   "metadata": {},
   "source": [
    "### Mileage vs price"
   ]
  },
  {
   "cell_type": "code",
   "execution_count": 74,
   "metadata": {},
   "outputs": [],
   "source": [
    "sns.boxplot(x=\"mpg\",y=\"price\",data=df)\n",
    "plt.show()"
   ]
  },
  {
   "cell_type": "markdown",
   "metadata": {},
   "source": [
    "#### Gear Ration Vs mpg"
   ]
  },
  {
   "cell_type": "code",
   "execution_count": 17,
   "metadata": {},
   "outputs": [],
   "source": [
    "sns.boxplot(x=\"gear_ratio\",y=\"mpg\",data=df)\n",
    "plt.show()"
   ]
  },
  {
   "cell_type": "markdown",
   "metadata": {},
   "source": [
    "Just taking a quick glance of our boxplot, we can see that the average gear_ratio with respect to mpg"
   ]
  },
  {
   "cell_type": "markdown",
   "metadata": {},
   "source": [
    "### Pearson Correlation\n",
    "The Pearson Correlation measures the linear dependence between two variables X and Y. The resulting coefficient is a value between -1 and 1 inclusive, where:\n",
    "1: total positive linear correlation,\n",
    "0: no linear correlation, the two variables most likely do not affect each other\n",
    "-1: total negative linear correlation."
   ]
  },
  {
   "cell_type": "code",
   "execution_count": 77,
   "metadata": {},
   "outputs": [
    {
     "data": {
      "text/html": [
       "<div>\n",
       "<style scoped>\n",
       "    .dataframe tbody tr th:only-of-type {\n",
       "        vertical-align: middle;\n",
       "    }\n",
       "\n",
       "    .dataframe tbody tr th {\n",
       "        vertical-align: top;\n",
       "    }\n",
       "\n",
       "    .dataframe thead th {\n",
       "        text-align: right;\n",
       "    }\n",
       "</style>\n",
       "<table border=\"1\" class=\"dataframe\">\n",
       "  <thead>\n",
       "    <tr style=\"text-align: right;\">\n",
       "      <th></th>\n",
       "      <th>price</th>\n",
       "      <th>mpg</th>\n",
       "      <th>rep78</th>\n",
       "      <th>headroom</th>\n",
       "      <th>trunk</th>\n",
       "      <th>weight</th>\n",
       "      <th>length</th>\n",
       "      <th>turn</th>\n",
       "      <th>displacement</th>\n",
       "      <th>gear_ratio</th>\n",
       "      <th>foreign</th>\n",
       "    </tr>\n",
       "  </thead>\n",
       "  <tbody>\n",
       "    <tr>\n",
       "      <th>price</th>\n",
       "      <td>1.000000</td>\n",
       "      <td>-0.468597</td>\n",
       "      <td>0.006553</td>\n",
       "      <td>0.161288</td>\n",
       "      <td>0.314332</td>\n",
       "      <td>0.538611</td>\n",
       "      <td>0.431831</td>\n",
       "      <td>0.309617</td>\n",
       "      <td>0.494943</td>\n",
       "      <td>-0.313661</td>\n",
       "      <td>0.048719</td>\n",
       "    </tr>\n",
       "    <tr>\n",
       "      <th>mpg</th>\n",
       "      <td>-0.468597</td>\n",
       "      <td>1.000000</td>\n",
       "      <td>0.402340</td>\n",
       "      <td>-0.424679</td>\n",
       "      <td>-0.581585</td>\n",
       "      <td>-0.807175</td>\n",
       "      <td>-0.795779</td>\n",
       "      <td>-0.719186</td>\n",
       "      <td>-0.705643</td>\n",
       "      <td>0.616177</td>\n",
       "      <td>0.393397</td>\n",
       "    </tr>\n",
       "    <tr>\n",
       "      <th>rep78</th>\n",
       "      <td>0.006553</td>\n",
       "      <td>0.402340</td>\n",
       "      <td>1.000000</td>\n",
       "      <td>-0.147239</td>\n",
       "      <td>-0.157243</td>\n",
       "      <td>-0.400344</td>\n",
       "      <td>-0.360565</td>\n",
       "      <td>-0.496131</td>\n",
       "      <td>-0.411943</td>\n",
       "      <td>0.410340</td>\n",
       "      <td>0.592237</td>\n",
       "    </tr>\n",
       "    <tr>\n",
       "      <th>headroom</th>\n",
       "      <td>0.161288</td>\n",
       "      <td>-0.424679</td>\n",
       "      <td>-0.147239</td>\n",
       "      <td>1.000000</td>\n",
       "      <td>0.610553</td>\n",
       "      <td>0.462438</td>\n",
       "      <td>0.501493</td>\n",
       "      <td>0.393669</td>\n",
       "      <td>0.445691</td>\n",
       "      <td>-0.311138</td>\n",
       "      <td>-0.246307</td>\n",
       "    </tr>\n",
       "    <tr>\n",
       "      <th>trunk</th>\n",
       "      <td>0.314332</td>\n",
       "      <td>-0.581585</td>\n",
       "      <td>-0.157243</td>\n",
       "      <td>0.610553</td>\n",
       "      <td>1.000000</td>\n",
       "      <td>0.672206</td>\n",
       "      <td>0.726596</td>\n",
       "      <td>0.601059</td>\n",
       "      <td>0.608635</td>\n",
       "      <td>-0.508665</td>\n",
       "      <td>-0.359435</td>\n",
       "    </tr>\n",
       "    <tr>\n",
       "      <th>weight</th>\n",
       "      <td>0.538611</td>\n",
       "      <td>-0.807175</td>\n",
       "      <td>-0.400344</td>\n",
       "      <td>0.462438</td>\n",
       "      <td>0.672206</td>\n",
       "      <td>1.000000</td>\n",
       "      <td>0.946009</td>\n",
       "      <td>0.857443</td>\n",
       "      <td>0.894896</td>\n",
       "      <td>-0.759258</td>\n",
       "      <td>-0.592830</td>\n",
       "    </tr>\n",
       "    <tr>\n",
       "      <th>length</th>\n",
       "      <td>0.431831</td>\n",
       "      <td>-0.795779</td>\n",
       "      <td>-0.360565</td>\n",
       "      <td>0.501493</td>\n",
       "      <td>0.726596</td>\n",
       "      <td>0.946009</td>\n",
       "      <td>1.000000</td>\n",
       "      <td>0.864261</td>\n",
       "      <td>0.835140</td>\n",
       "      <td>-0.696383</td>\n",
       "      <td>-0.570198</td>\n",
       "    </tr>\n",
       "    <tr>\n",
       "      <th>turn</th>\n",
       "      <td>0.309617</td>\n",
       "      <td>-0.719186</td>\n",
       "      <td>-0.496131</td>\n",
       "      <td>0.393669</td>\n",
       "      <td>0.601059</td>\n",
       "      <td>0.857443</td>\n",
       "      <td>0.864261</td>\n",
       "      <td>1.000000</td>\n",
       "      <td>0.776765</td>\n",
       "      <td>-0.676300</td>\n",
       "      <td>-0.631096</td>\n",
       "    </tr>\n",
       "    <tr>\n",
       "      <th>displacement</th>\n",
       "      <td>0.494943</td>\n",
       "      <td>-0.705643</td>\n",
       "      <td>-0.411943</td>\n",
       "      <td>0.445691</td>\n",
       "      <td>0.608635</td>\n",
       "      <td>0.894896</td>\n",
       "      <td>0.835140</td>\n",
       "      <td>0.776765</td>\n",
       "      <td>1.000000</td>\n",
       "      <td>-0.828877</td>\n",
       "      <td>-0.613758</td>\n",
       "    </tr>\n",
       "    <tr>\n",
       "      <th>gear_ratio</th>\n",
       "      <td>-0.313661</td>\n",
       "      <td>0.616177</td>\n",
       "      <td>0.410340</td>\n",
       "      <td>-0.311138</td>\n",
       "      <td>-0.508665</td>\n",
       "      <td>-0.759258</td>\n",
       "      <td>-0.696383</td>\n",
       "      <td>-0.676300</td>\n",
       "      <td>-0.828877</td>\n",
       "      <td>1.000000</td>\n",
       "      <td>0.706726</td>\n",
       "    </tr>\n",
       "    <tr>\n",
       "      <th>foreign</th>\n",
       "      <td>0.048719</td>\n",
       "      <td>0.393397</td>\n",
       "      <td>0.592237</td>\n",
       "      <td>-0.246307</td>\n",
       "      <td>-0.359435</td>\n",
       "      <td>-0.592830</td>\n",
       "      <td>-0.570198</td>\n",
       "      <td>-0.631096</td>\n",
       "      <td>-0.613758</td>\n",
       "      <td>0.706726</td>\n",
       "      <td>1.000000</td>\n",
       "    </tr>\n",
       "  </tbody>\n",
       "</table>\n",
       "</div>"
      ],
      "text/plain": [
       "                 price       mpg     rep78  headroom     trunk    weight  \\\n",
       "price         1.000000 -0.468597  0.006553  0.161288  0.314332  0.538611   \n",
       "mpg          -0.468597  1.000000  0.402340 -0.424679 -0.581585 -0.807175   \n",
       "rep78         0.006553  0.402340  1.000000 -0.147239 -0.157243 -0.400344   \n",
       "headroom      0.161288 -0.424679 -0.147239  1.000000  0.610553  0.462438   \n",
       "trunk         0.314332 -0.581585 -0.157243  0.610553  1.000000  0.672206   \n",
       "weight        0.538611 -0.807175 -0.400344  0.462438  0.672206  1.000000   \n",
       "length        0.431831 -0.795779 -0.360565  0.501493  0.726596  0.946009   \n",
       "turn          0.309617 -0.719186 -0.496131  0.393669  0.601059  0.857443   \n",
       "displacement  0.494943 -0.705643 -0.411943  0.445691  0.608635  0.894896   \n",
       "gear_ratio   -0.313661  0.616177  0.410340 -0.311138 -0.508665 -0.759258   \n",
       "foreign       0.048719  0.393397  0.592237 -0.246307 -0.359435 -0.592830   \n",
       "\n",
       "                length      turn  displacement  gear_ratio   foreign  \n",
       "price         0.431831  0.309617      0.494943   -0.313661  0.048719  \n",
       "mpg          -0.795779 -0.719186     -0.705643    0.616177  0.393397  \n",
       "rep78        -0.360565 -0.496131     -0.411943    0.410340  0.592237  \n",
       "headroom      0.501493  0.393669      0.445691   -0.311138 -0.246307  \n",
       "trunk         0.726596  0.601059      0.608635   -0.508665 -0.359435  \n",
       "weight        0.946009  0.857443      0.894896   -0.759258 -0.592830  \n",
       "length        1.000000  0.864261      0.835140   -0.696383 -0.570198  \n",
       "turn          0.864261  1.000000      0.776765   -0.676300 -0.631096  \n",
       "displacement  0.835140  0.776765      1.000000   -0.828877 -0.613758  \n",
       "gear_ratio   -0.696383 -0.676300     -0.828877    1.000000  0.706726  \n",
       "foreign      -0.570198 -0.631096     -0.613758    0.706726  1.000000  "
      ]
     },
     "execution_count": 77,
     "metadata": {},
     "output_type": "execute_result"
    }
   ],
   "source": [
    "df.corr()"
   ]
  },
  {
   "cell_type": "code",
   "execution_count": 81,
   "metadata": {},
   "outputs": [],
   "source": [
    "y=df['price']\n",
    "x=df['mpg']\n",
    "plt.bar(x,y)\n",
    "\n",
    "plt.show() "
   ]
  },
  {
   "cell_type": "code",
   "execution_count": 84,
   "metadata": {},
   "outputs": [],
   "source": [
    "plt.scatter(df['mpg'],df['rep78'],color='b')\n",
    "plt.xlabel('mpg')\n",
    "plt.ylabel('rep78')\n",
    "plt.show()"
   ]
  },
  {
   "cell_type": "markdown",
   "metadata": {},
   "source": [
    "### Hence the spearmans calculation are right - there is a corelations between gear_ratio and mpg"
   ]
  },
  {
   "cell_type": "markdown",
   "metadata": {},
   "source": [
    "### Exploratory Data Analysis \n",
    "Are we asking the right questions\n",
    "Distribution, etc"
   ]
  },
  {
   "cell_type": "code",
   "execution_count": 11,
   "metadata": {},
   "outputs": [
    {
     "name": "stderr",
     "output_type": "stream",
     "text": [
      "<ipython-input-11-7614cfd7d923>:3: UserWarning: Matplotlib is currently using agg, which is a non-GUI backend, so cannot show the figure.\n",
      "  plt.show()\n"
     ]
    }
   ],
   "source": [
    "plt.figure(figsize=(10,10))\n",
    "sns.heatmap(df.corr(),cbar=True,annot=True,cmap='Blues')\n",
    "plt.show()"
   ]
  },
  {
   "cell_type": "markdown",
   "metadata": {},
   "source": [
    "### Positive Correlation\n",
    "Price – weight, mpg, rep78 \n",
    "Negative Correlation\n",
    "Price – turn, displacement\n",
    "This heatmap has given us great insights into the data."
   ]
  },
  {
   "cell_type": "markdown",
   "metadata": {},
   "source": [
    "#### How does the gear_ratio affect the price?"
   ]
  },
  {
   "cell_type": "code",
   "execution_count": 10,
   "metadata": {},
   "outputs": [
    {
     "name": "stderr",
     "output_type": "stream",
     "text": [
      "<ipython-input-10-be5dea3063ff>:5: UserWarning: Matplotlib is currently using agg, which is a non-GUI backend, so cannot show the figure.\n",
      "  plt.show()\n"
     ]
    }
   ],
   "source": [
    "plt.figure(figsize=(10,10))\n",
    "plt.scatter(x='gear_ratio',y='price',data=df)\n",
    "plt.xlabel('gear_ratio')\n",
    "plt.ylabel('Price')\n",
    "plt.show()"
   ]
  },
  {
   "cell_type": "markdown",
   "metadata": {},
   "source": [
    "##### We can see that most of the gear _ ratio value lies between 2.75 - 3.25 has price mostly between 4000-60000, there are outliers also (between 10000-16000)."
   ]
  },
  {
   "cell_type": "markdown",
   "metadata": {},
   "source": [
    "### Let us check a count between 2.75 - 3.25 i.e univariate analysis of gear_ratio."
   ]
  },
  {
   "cell_type": "code",
   "execution_count": 32,
   "metadata": {},
   "outputs": [],
   "source": [
    "sns.histplot(df.gear_ratio,bins=10)\n",
    "plt.show()"
   ]
  },
  {
   "cell_type": "markdown",
   "metadata": {},
   "source": [
    "The average count between 2.75 - 3.25 is 12 and it is positively skewed."
   ]
  },
  {
   "cell_type": "markdown",
   "metadata": {},
   "source": [
    "##### Checking an relationships and impact of vairables"
   ]
  },
  {
   "cell_type": "code",
   "execution_count": 33,
   "metadata": {},
   "outputs": [],
   "source": [
    "for col in df.columns:\n",
    "    sns.scatterplot(x=col,y='mpg', data=df)\n",
    "    plt.show()"
   ]
  },
  {
   "cell_type": "markdown",
   "metadata": {},
   "source": [
    "##### How does mpg affect price"
   ]
  },
  {
   "cell_type": "code",
   "execution_count": 38,
   "metadata": {},
   "outputs": [],
   "source": [
    "plt.figure(figsize=(10,10))\n",
    "plt.scatter(x='mpg',y='price',data=df)\n",
    "plt.xlabel('mpg')\n",
    "plt.ylabel('Price')\n",
    "plt.show()"
   ]
  },
  {
   "cell_type": "markdown",
   "metadata": {},
   "source": [
    "We can see price decreases with an increase in mpg."
   ]
  },
  {
   "cell_type": "markdown",
   "metadata": {},
   "source": [
    "## Using the Corrrelation now to find the relations"
   ]
  },
  {
   "cell_type": "code",
   "execution_count": null,
   "metadata": {},
   "outputs": [],
   "source": [
    "df.corr('spearman')"
   ]
  },
  {
   "cell_type": "code",
   "execution_count": null,
   "metadata": {},
   "outputs": [],
   "source": [
    "df.corr('kendall')"
   ]
  },
  {
   "cell_type": "markdown",
   "metadata": {},
   "source": [
    "## Predicting\n",
    "What feature can be used to create a model from this data\n"
   ]
  }
 ],
 "metadata": {
  "interpreter": {
   "hash": "916b4b65f67bb9c2e4625738aa470884dd8a444b2f2bbcac88867f451039d9ca"
  },
  "kernelspec": {
   "display_name": "Python 3.9.1 64-bit",
   "language": "python",
   "name": "python3"
  },
  "language_info": {
   "codemirror_mode": {
    "name": "ipython",
    "version": 3
   },
   "file_extension": ".py",
   "mimetype": "text/x-python",
   "name": "python",
   "nbconvert_exporter": "python",
   "pygments_lexer": "ipython3",
   "version": "3.9.1"
  },
  "orig_nbformat": 4
 },
 "nbformat": 4,
 "nbformat_minor": 2
}
